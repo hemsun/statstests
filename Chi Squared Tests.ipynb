{
 "cells": [
  {
   "cell_type": "code",
   "execution_count": 4,
   "id": "5268a30a-9867-4ef1-98a7-942a0768f64c",
   "metadata": {},
   "outputs": [],
   "source": [
    "from scipy import stats as st\n",
    "from scipy.stats import chi2, chi2_contingency, chisquare"
   ]
  },
  {
   "cell_type": "markdown",
   "id": "1bd5a963-e262-46b9-ae24-b111ddfe9a48",
   "metadata": {},
   "source": [
    "# Goodness of Fit "
   ]
  },
  {
   "cell_type": "markdown",
   "id": "e0c49db1-f44a-427b-95bf-71ed47503e4c",
   "metadata": {},
   "source": [
    "A genetics engineer was attempting to cross a tiger and a cheetah. She predicted a\r\n",
    "phenotypic outcome of the traits she was observing to be in the following ratio 4 stripes\r\n",
    "only: 3 spots only: 9 both stripes and spots. When the cross was performed and she\r\n",
    "counted the individuals she found 50 with stripes only, 41 with spots only and 85 with\r\n",
    "both. According to the Chi-square test, did she get the predicted outcome? "
   ]
  },
  {
   "cell_type": "code",
   "execution_count": 59,
   "id": "ce676143-696a-4a6a-bd20-7b886794933f",
   "metadata": {},
   "outputs": [
    {
     "name": "stdout",
     "output_type": "stream",
     "text": [
      "X2=4.74,p=0.09\n"
     ]
    }
   ],
   "source": [
    "observed=[50,41,85]\n",
    "expected=[44,33,99]\n",
    "chisq, p = st.chisquare(observed,expected) #degrees of freedon = number of categories -1\n",
    "print(f'X2={chisq:.2f},p={p:.2f}')"
   ]
  },
  {
   "cell_type": "markdown",
   "id": "e231b78e-f4ea-44a7-91b9-b8156b4365cd",
   "metadata": {},
   "source": [
    "We are using the goodness of fit to test whether the population follows the expected frequncy. <br>\n",
    "-- H0= observed frequency = expected frequency <br>\n",
    "-- Ha= observed frequency not equal to expected frequncy <br>\n",
    "\n",
    "--Since p is greater than alpha, we fail to reject the null hypothesis and accept that she got the predicted outcome. "
   ]
  },
  {
   "cell_type": "code",
   "execution_count": null,
   "id": "3ccf5dad-7830-4102-81dd-3d606a1ed70c",
   "metadata": {},
   "outputs": [],
   "source": [
    "\n"
   ]
  },
  {
   "cell_type": "markdown",
   "id": "b0d1c192-07f8-4d37-aceb-42f55cc85e9f",
   "metadata": {},
   "source": [
    "# Test of Independence #degrees of freedon= row-1 * col-1"
   ]
  },
  {
   "cell_type": "markdown",
   "id": "6dfe5688-f0a8-474a-8453-b8f8e23dfaaf",
   "metadata": {},
   "source": [
    "Expected:\n",
    "\n",
    "                           Gryffindor\tHufflepuff\tRavenclaw\tSlytherin \n",
    "No to pineapple on pizza\t  77.12\t      120.71\t     212.68   \t68.5<br>\n",
    "Yes to pineapple on pizza\t  83.88\t      131.29\t     231.32\t    74.5"
   ]
  },
  {
   "cell_type": "code",
   "execution_count": 5,
   "id": "77bc0aa5-85c9-4a8d-b1bb-e1aedc84c14a",
   "metadata": {},
   "outputs": [
    {
     "name": "stdout",
     "output_type": "stream",
     "text": [
      "     Gryffindor  Hufflepuff  Ravenclaw  Slytherin\n",
      "No           79         122        204         74\n",
      "Yes          82         130        240         69\n"
     ]
    }
   ],
   "source": [
    "import pandas as pd\n",
    "\n",
    "# Create a contingency table (also known as a cross tabulation)\n",
    "dct = {\n",
    "    'Gryffindor': [79, 82],\n",
    "    'Hufflepuff': [122, 130],\n",
    "    'Ravenclaw': [204, 240],\n",
    "    'Slytherin': [74, 69],\n",
    "}\n",
    "crosstab = pd.DataFrame(dct, index=['No', 'Yes'])\n",
    "\n",
    "print(crosstab)"
   ]
  },
  {
   "cell_type": "code",
   "execution_count": 10,
   "id": "8853171a-8954-4e70-8841-54e3ec72b3d4",
   "metadata": {},
   "outputs": [
    {
     "name": "stdout",
     "output_type": "stream",
     "text": [
      "χ² = 1.643, p = 0.65, degrees of freedom = 3\n"
     ]
    }
   ],
   "source": [
    "chi2,pval,dof,expected = st.chi2_contingency(crosstab)\n",
    "\n",
    "print(f'χ² = {chi2:.3f}, p = {pval:.2f}, degrees of freedom = {dof}')"
   ]
  },
  {
   "cell_type": "markdown",
   "id": "507c6769-9389-4d4a-a09b-9ea94d73e5cc",
   "metadata": {},
   "source": [
    "since p val is greater than alpha, we fail to reject the null hypothesis. so there may be no significan association"
   ]
  },
  {
   "cell_type": "code",
   "execution_count": 34,
   "id": "73734c68-bc67-45f8-87bb-8ad988f5cd44",
   "metadata": {},
   "outputs": [
    {
     "data": {
      "text/html": [
       "<div>\n",
       "<style scoped>\n",
       "    .dataframe tbody tr th:only-of-type {\n",
       "        vertical-align: middle;\n",
       "    }\n",
       "\n",
       "    .dataframe tbody tr th {\n",
       "        vertical-align: top;\n",
       "    }\n",
       "\n",
       "    .dataframe thead th {\n",
       "        text-align: right;\n",
       "    }\n",
       "</style>\n",
       "<table border=\"1\" class=\"dataframe\">\n",
       "  <thead>\n",
       "    <tr style=\"text-align: right;\">\n",
       "      <th></th>\n",
       "      <th>Gender</th>\n",
       "      <th>Like Shopping?</th>\n",
       "    </tr>\n",
       "  </thead>\n",
       "  <tbody>\n",
       "    <tr>\n",
       "      <th>0</th>\n",
       "      <td>Male</td>\n",
       "      <td>No</td>\n",
       "    </tr>\n",
       "    <tr>\n",
       "      <th>1</th>\n",
       "      <td>Female</td>\n",
       "      <td>Yes</td>\n",
       "    </tr>\n",
       "    <tr>\n",
       "      <th>2</th>\n",
       "      <td>Male</td>\n",
       "      <td>Yes</td>\n",
       "    </tr>\n",
       "    <tr>\n",
       "      <th>3</th>\n",
       "      <td>Female</td>\n",
       "      <td>Yes</td>\n",
       "    </tr>\n",
       "    <tr>\n",
       "      <th>4</th>\n",
       "      <td>Female</td>\n",
       "      <td>Yes</td>\n",
       "    </tr>\n",
       "    <tr>\n",
       "      <th>5</th>\n",
       "      <td>Male</td>\n",
       "      <td>Yes</td>\n",
       "    </tr>\n",
       "    <tr>\n",
       "      <th>6</th>\n",
       "      <td>Male</td>\n",
       "      <td>No</td>\n",
       "    </tr>\n",
       "    <tr>\n",
       "      <th>7</th>\n",
       "      <td>Female</td>\n",
       "      <td>No</td>\n",
       "    </tr>\n",
       "    <tr>\n",
       "      <th>8</th>\n",
       "      <td>Female</td>\n",
       "      <td>No</td>\n",
       "    </tr>\n",
       "  </tbody>\n",
       "</table>\n",
       "</div>"
      ],
      "text/plain": [
       "   Gender Like Shopping? \n",
       "0   Male               No\n",
       "1  Female             Yes\n",
       "2   Male              Yes\n",
       "3  Female             Yes\n",
       "4  Female             Yes\n",
       "5   Male              Yes\n",
       "6   Male               No\n",
       "7  Female              No\n",
       "8  Female              No"
      ]
     },
     "execution_count": 34,
     "metadata": {},
     "output_type": "execute_result"
    }
   ],
   "source": [
    "data = pd.read_excel(r\"C:\\Users\\hemal\\OneDrive - Tesign Inc\\Hema\\Data science\\Portfolio\\Python Data Science\\Chisquaretest\\Dataset_Of_2CategoricalVariables.xlsx\")\n",
    "data"
   ]
  },
  {
   "cell_type": "code",
   "execution_count": 38,
   "id": "ef8d18ab-f74c-400a-9e91-f66849f78dea",
   "metadata": {},
   "outputs": [
    {
     "data": {
      "text/plain": [
       "Index(['Gender', 'Like Shopping? '], dtype='object')"
      ]
     },
     "execution_count": 38,
     "metadata": {},
     "output_type": "execute_result"
    }
   ],
   "source": [
    "data.columns"
   ]
  },
  {
   "cell_type": "code",
   "execution_count": 40,
   "id": "8f623120-b282-4a68-b756-88ba1650c91f",
   "metadata": {},
   "outputs": [
    {
     "data": {
      "text/html": [
       "<div>\n",
       "<style scoped>\n",
       "    .dataframe tbody tr th:only-of-type {\n",
       "        vertical-align: middle;\n",
       "    }\n",
       "\n",
       "    .dataframe tbody tr th {\n",
       "        vertical-align: top;\n",
       "    }\n",
       "\n",
       "    .dataframe thead th {\n",
       "        text-align: right;\n",
       "    }\n",
       "</style>\n",
       "<table border=\"1\" class=\"dataframe\">\n",
       "  <thead>\n",
       "    <tr style=\"text-align: right;\">\n",
       "      <th></th>\n",
       "      <th>Gender</th>\n",
       "      <th>like_shopping</th>\n",
       "    </tr>\n",
       "  </thead>\n",
       "  <tbody>\n",
       "    <tr>\n",
       "      <th>0</th>\n",
       "      <td>Male</td>\n",
       "      <td>No</td>\n",
       "    </tr>\n",
       "    <tr>\n",
       "      <th>1</th>\n",
       "      <td>Female</td>\n",
       "      <td>Yes</td>\n",
       "    </tr>\n",
       "    <tr>\n",
       "      <th>2</th>\n",
       "      <td>Male</td>\n",
       "      <td>Yes</td>\n",
       "    </tr>\n",
       "    <tr>\n",
       "      <th>3</th>\n",
       "      <td>Female</td>\n",
       "      <td>Yes</td>\n",
       "    </tr>\n",
       "    <tr>\n",
       "      <th>4</th>\n",
       "      <td>Female</td>\n",
       "      <td>Yes</td>\n",
       "    </tr>\n",
       "  </tbody>\n",
       "</table>\n",
       "</div>"
      ],
      "text/plain": [
       "   Gender like_shopping\n",
       "0   Male             No\n",
       "1  Female           Yes\n",
       "2   Male            Yes\n",
       "3  Female           Yes\n",
       "4  Female           Yes"
      ]
     },
     "execution_count": 40,
     "metadata": {},
     "output_type": "execute_result"
    }
   ],
   "source": [
    "import pandas as pd\n",
    "\n",
    "# Assuming 'data' is your original DataFrame\n",
    "data.rename(columns={\"Like Shopping? \":\"like_shopping\" }, inplace=True)\n",
    "\n",
    "# Display the first few rows of the modified DataFrame\n",
    "data.head()\n"
   ]
  },
  {
   "cell_type": "code",
   "execution_count": 42,
   "id": "d98e6dc7-0bd6-4128-a7e5-7aa7bb6f4eac",
   "metadata": {},
   "outputs": [],
   "source": [
    "#contingency table\n",
    "con_tab= pd.crosstab(data[\"Gender\"],data[\"like_shopping\"])"
   ]
  },
  {
   "cell_type": "code",
   "execution_count": 43,
   "id": "665ebcd5-9dfc-4b34-9ca8-65d2a2315f4d",
   "metadata": {},
   "outputs": [
    {
     "data": {
      "text/html": [
       "<div>\n",
       "<style scoped>\n",
       "    .dataframe tbody tr th:only-of-type {\n",
       "        vertical-align: middle;\n",
       "    }\n",
       "\n",
       "    .dataframe tbody tr th {\n",
       "        vertical-align: top;\n",
       "    }\n",
       "\n",
       "    .dataframe thead th {\n",
       "        text-align: right;\n",
       "    }\n",
       "</style>\n",
       "<table border=\"1\" class=\"dataframe\">\n",
       "  <thead>\n",
       "    <tr style=\"text-align: right;\">\n",
       "      <th>like_shopping</th>\n",
       "      <th>No</th>\n",
       "      <th>Yes</th>\n",
       "    </tr>\n",
       "    <tr>\n",
       "      <th>Gender</th>\n",
       "      <th></th>\n",
       "      <th></th>\n",
       "    </tr>\n",
       "  </thead>\n",
       "  <tbody>\n",
       "    <tr>\n",
       "      <th>Female</th>\n",
       "      <td>2</td>\n",
       "      <td>3</td>\n",
       "    </tr>\n",
       "    <tr>\n",
       "      <th>Male</th>\n",
       "      <td>2</td>\n",
       "      <td>2</td>\n",
       "    </tr>\n",
       "  </tbody>\n",
       "</table>\n",
       "</div>"
      ],
      "text/plain": [
       "like_shopping  No  Yes\n",
       "Gender                \n",
       "Female          2    3\n",
       "Male            2    2"
      ]
     },
     "execution_count": 43,
     "metadata": {},
     "output_type": "execute_result"
    }
   ],
   "source": [
    "con_tab"
   ]
  },
  {
   "cell_type": "code",
   "execution_count": null,
   "id": "1013f68b-c612-4274-95e7-f80478e2bf45",
   "metadata": {},
   "outputs": [],
   "source": [
    "chi2,pval,dof,expected = st.chi2_contingency(crosstab)\n",
    "\n",
    "print(f'χ² = {chi2:.3f}, p = {pval:.2f}, degrees of freedom = {dof}')"
   ]
  },
  {
   "cell_type": "code",
   "execution_count": 49,
   "id": "a3bdbbac-eac2-40de-b187-17c7b299e5d7",
   "metadata": {},
   "outputs": [
    {
     "name": "stdout",
     "output_type": "stream",
     "text": [
      "χ² = 0.0900, p = 0.7642, degrees of freedom = 1\n"
     ]
    }
   ],
   "source": [
    "chi2,pval,dof,expected= st.chi2_contingency(con_tab,correction=False)\n",
    "print(f'χ² = {chi2:.4f}, p = {pval:.4f}, degrees of freedom = {dof}')"
   ]
  },
  {
   "cell_type": "code",
   "execution_count": 50,
   "id": "e4971e09-b6bb-4bb0-8c4b-d3019b84aad2",
   "metadata": {},
   "outputs": [
    {
     "name": "stdout",
     "output_type": "stream",
     "text": [
      "[[2.22222222 2.77777778]\n",
      " [1.77777778 2.22222222]]\n"
     ]
    }
   ],
   "source": [
    "print(expected)"
   ]
  },
  {
   "cell_type": "code",
   "execution_count": null,
   "id": "1d2cc5c2-5695-4aa1-bda1-d0d1a1a5076e",
   "metadata": {},
   "outputs": [],
   "source": [
    "#"
   ]
  }
 ],
 "metadata": {
  "kernelspec": {
   "display_name": "Python 3 (ipykernel)",
   "language": "python",
   "name": "python3"
  },
  "language_info": {
   "codemirror_mode": {
    "name": "ipython",
    "version": 3
   },
   "file_extension": ".py",
   "mimetype": "text/x-python",
   "name": "python",
   "nbconvert_exporter": "python",
   "pygments_lexer": "ipython3",
   "version": "3.11.5"
  }
 },
 "nbformat": 4,
 "nbformat_minor": 5
}
